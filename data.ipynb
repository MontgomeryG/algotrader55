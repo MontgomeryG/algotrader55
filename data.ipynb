{
 "cells": [
  {
   "cell_type": "code",
   "execution_count": 5,
   "metadata": {},
   "outputs": [],
   "source": [
    "# Import the required libraries\n",
    "import numpy as np\n",
    "import pandas as pd\n",
    "import hvplot.pandas\n",
    "from pathlib import Path\n",
    "from finta import TA\n",
    "\n",
    "# Imports for Alpaca API, .env files, requests\n",
    "import os\n",
    "import requests\n",
    "from dotenv import load_dotenv\n",
    "import alpaca_trade_api as tradeapi\n",
    "\n",
    "%matplotlib inline"
   ]
  },
  {
   "cell_type": "code",
   "execution_count": 6,
   "metadata": {},
   "outputs": [
    {
     "data": {
      "text/plain": [
       "True"
      ]
     },
     "execution_count": 6,
     "metadata": {},
     "output_type": "execute_result"
    }
   ],
   "source": [
    "# Load .env enviroment variables\n",
    "load_dotenv()"
   ]
  },
  {
   "cell_type": "code",
   "execution_count": 7,
   "metadata": {},
   "outputs": [
    {
     "name": "stdout",
     "output_type": "stream",
     "text": [
      "Alpaca Key type: <class 'str'>\n",
      "Alpaca Secret Key type: <class 'str'>\n"
     ]
    }
   ],
   "source": [
    "# Set Alpaca API key and secret\n",
    "alpaca_api_key = os.getenv(\"ALPACA_API_KEY\")\n",
    "alpaca_secret_key = os.getenv(\"ALPACA_SECRET_KEY\")\n",
    "\n",
    "# Verify that Alpaca key and secret were correctly loaded\n",
    "print(f\"Alpaca Key type: {type(alpaca_api_key)}\")\n",
    "print(f\"Alpaca Secret Key type: {type(alpaca_secret_key)}\")\n",
    "\n",
    "# Create the Alpaca API object\n",
    "alpaca = tradeapi.REST(\n",
    "    alpaca_api_key,\n",
    "    alpaca_secret_key,\n",
    "    api_version=\"v2\")"
   ]
  },
  {
   "cell_type": "code",
   "execution_count": 8,
   "metadata": {},
   "outputs": [
    {
     "data": {
      "text/html": [
       "<div>\n",
       "<style scoped>\n",
       "    .dataframe tbody tr th:only-of-type {\n",
       "        vertical-align: middle;\n",
       "    }\n",
       "\n",
       "    .dataframe tbody tr th {\n",
       "        vertical-align: top;\n",
       "    }\n",
       "\n",
       "    .dataframe thead th {\n",
       "        text-align: right;\n",
       "    }\n",
       "</style>\n",
       "<table border=\"1\" class=\"dataframe\">\n",
       "  <thead>\n",
       "    <tr style=\"text-align: right;\">\n",
       "      <th></th>\n",
       "      <th>close</th>\n",
       "      <th>high</th>\n",
       "      <th>low</th>\n",
       "      <th>trade_count</th>\n",
       "      <th>open</th>\n",
       "      <th>volume</th>\n",
       "      <th>vwap</th>\n",
       "    </tr>\n",
       "    <tr>\n",
       "      <th>timestamp</th>\n",
       "      <th></th>\n",
       "      <th></th>\n",
       "      <th></th>\n",
       "      <th></th>\n",
       "      <th></th>\n",
       "      <th></th>\n",
       "      <th></th>\n",
       "    </tr>\n",
       "  </thead>\n",
       "  <tbody>\n",
       "    <tr>\n",
       "      <th>2023-01-03 09:00:00+00:00</th>\n",
       "      <td>131.22</td>\n",
       "      <td>131.46</td>\n",
       "      <td>130.28</td>\n",
       "      <td>1238</td>\n",
       "      <td>130.28</td>\n",
       "      <td>66946</td>\n",
       "      <td>131.136741</td>\n",
       "    </tr>\n",
       "    <tr>\n",
       "      <th>2023-01-03 09:15:00+00:00</th>\n",
       "      <td>130.90</td>\n",
       "      <td>131.32</td>\n",
       "      <td>130.90</td>\n",
       "      <td>676</td>\n",
       "      <td>131.21</td>\n",
       "      <td>38729</td>\n",
       "      <td>131.106010</td>\n",
       "    </tr>\n",
       "    <tr>\n",
       "      <th>2023-01-03 09:30:00+00:00</th>\n",
       "      <td>131.15</td>\n",
       "      <td>131.24</td>\n",
       "      <td>130.90</td>\n",
       "      <td>294</td>\n",
       "      <td>130.92</td>\n",
       "      <td>17889</td>\n",
       "      <td>131.042992</td>\n",
       "    </tr>\n",
       "    <tr>\n",
       "      <th>2023-01-03 09:45:00+00:00</th>\n",
       "      <td>131.30</td>\n",
       "      <td>131.30</td>\n",
       "      <td>131.17</td>\n",
       "      <td>305</td>\n",
       "      <td>131.22</td>\n",
       "      <td>20119</td>\n",
       "      <td>131.261797</td>\n",
       "    </tr>\n",
       "    <tr>\n",
       "      <th>2023-01-03 10:00:00+00:00</th>\n",
       "      <td>131.13</td>\n",
       "      <td>131.40</td>\n",
       "      <td>131.01</td>\n",
       "      <td>335</td>\n",
       "      <td>131.40</td>\n",
       "      <td>12429</td>\n",
       "      <td>131.220745</td>\n",
       "    </tr>\n",
       "  </tbody>\n",
       "</table>\n",
       "</div>"
      ],
      "text/plain": [
       "                            close    high     low  trade_count    open  \\\n",
       "timestamp                                                                \n",
       "2023-01-03 09:00:00+00:00  131.22  131.46  130.28         1238  130.28   \n",
       "2023-01-03 09:15:00+00:00  130.90  131.32  130.90          676  131.21   \n",
       "2023-01-03 09:30:00+00:00  131.15  131.24  130.90          294  130.92   \n",
       "2023-01-03 09:45:00+00:00  131.30  131.30  131.17          305  131.22   \n",
       "2023-01-03 10:00:00+00:00  131.13  131.40  131.01          335  131.40   \n",
       "\n",
       "                           volume        vwap  \n",
       "timestamp                                      \n",
       "2023-01-03 09:00:00+00:00   66946  131.136741  \n",
       "2023-01-03 09:15:00+00:00   38729  131.106010  \n",
       "2023-01-03 09:30:00+00:00   17889  131.042992  \n",
       "2023-01-03 09:45:00+00:00   20119  131.261797  \n",
       "2023-01-03 10:00:00+00:00   12429  131.220745  "
      ]
     },
     "metadata": {},
     "output_type": "display_data"
    }
   ],
   "source": [
    "# Set start and end dates and specify isoformat\n",
    "# We will start off with on week in the middle of November of this year, 2023.\n",
    "\n",
    "start_date = pd.Timestamp(\"2023-01-01\", tz=\"America/New_York\").isoformat()\n",
    "end_date = pd.Timestamp(\"2024-02-29\", tz=\"America/New_York\").isoformat()\n",
    "\n",
    "# Set the tickers\n",
    "# Test with one for now.\n",
    "# Later, this is where we will feed in our list of nq/es stocks we created above\n",
    "tickers = [\"AAPL\"]\n",
    "\n",
    "# Set timeframe for Alpaca API\n",
    "# 15 MINUTE\n",
    "# Set timeframe for Alpaca API\n",
    "timeframe = \"15Min\"\n",
    "\n",
    "# Get historical OHLC data for AALP and MSFT\n",
    "aapl_15min_df = alpaca.get_bars(\n",
    "    tickers,\n",
    "    timeframe,\n",
    "    start = start_date,\n",
    "    end = end_date\n",
    ").df\n",
    "\n",
    "aapl_15min_df\n",
    "\n",
    "# Separate ticker data\n",
    "aapl_15min_formatted = aapl_15min_df[aapl_15min_df['symbol']=='AAPL'].drop('symbol', axis=1)\n",
    "\n",
    "\n",
    "# Drop NA\n",
    "aapl_15min_formatted = aapl_15min_formatted.dropna()\n",
    "\n",
    "display(aapl_15min_formatted.head())\n",
    "\n",
    "# Now save this cleaned dataframe to a new .csv\n",
    "aapl_15min_formatted.to_csv('../algotrader55/Resources/aapl_15min_df.csv', index=True)"
   ]
  },
  {
   "cell_type": "code",
   "execution_count": null,
   "metadata": {},
   "outputs": [],
   "source": [
    "\n"
   ]
  },
  {
   "cell_type": "code",
   "execution_count": null,
   "metadata": {},
   "outputs": [],
   "source": []
  },
  {
   "cell_type": "code",
   "execution_count": null,
   "metadata": {},
   "outputs": [],
   "source": []
  },
  {
   "cell_type": "code",
   "execution_count": null,
   "metadata": {},
   "outputs": [],
   "source": []
  },
  {
   "cell_type": "code",
   "execution_count": null,
   "metadata": {},
   "outputs": [],
   "source": []
  }
 ],
 "metadata": {
  "kernelspec": {
   "display_name": "base",
   "language": "python",
   "name": "python3"
  },
  "language_info": {
   "codemirror_mode": {
    "name": "ipython",
    "version": 3
   },
   "file_extension": ".py",
   "mimetype": "text/x-python",
   "name": "python",
   "nbconvert_exporter": "python",
   "pygments_lexer": "ipython3",
   "version": "3.11.5"
  }
 },
 "nbformat": 4,
 "nbformat_minor": 2
}
